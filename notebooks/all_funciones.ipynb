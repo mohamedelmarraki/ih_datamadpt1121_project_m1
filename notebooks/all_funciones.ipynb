{
 "cells": [
  {
   "cell_type": "code",
   "execution_count": 1,
   "metadata": {},
   "outputs": [],
   "source": [
    "import pandas as pd\n",
    "from shapely.geometry import Point\n",
    "import geopandas as gpd \n",
    "import requests"
   ]
  },
  {
   "cell_type": "code",
   "execution_count": 2,
   "metadata": {},
   "outputs": [],
   "source": [
    "def to_mercator(lat, long):\n",
    "    # transform latitude/longitude data in degrees to pseudo-mercator coordinates in metres\n",
    "    c = gpd.GeoSeries([Point(lat, long)], crs=4326)\n",
    "    c = c.to_crs(3857)\n",
    "    return c\n",
    "\n",
    "def distance_meters(lat_start, long_start, lat_finish, long_finish):\n",
    "    # return the distance in metres between to latitude/longitude pair point in degrees (i.e.: 40.392436 / -3.6994487)\n",
    "    start = to_mercator(lat_start, long_start)\n",
    "    finish = to_mercator(lat_finish, long_finish)\n",
    "    return start.distance(finish)\n",
    "\n",
    "def distance_meters(mercator_start, mercator_finish):\n",
    "    return mercator_start.distance(mercator_finish)"
   ]
  },
  {
   "cell_type": "code",
   "execution_count": 3,
   "metadata": {},
   "outputs": [],
   "source": [
    "def BiciMad(): #m_acquisition\n",
    "    df_BiciMad = pd.read_json(\"../data/bicimad_stations.json\")\n",
    "    return df_BiciMad\n",
    "\n",
    "\n",
    "def lat_lon(df_BiciMad): #analysis\n",
    "    lat = [float(column[\"geometry_coordinates\"].split(\",\")[0].replace(\"[\", \"\")) for index, column in df_BiciMad.iterrows()]\n",
    "    lon = [float(column[\"geometry_coordinates\"].split(\",\")[1].replace(\"]\", \"\")) for index, column in df_BiciMad.iterrows()]\n",
    "    df_BiciMad[\"LATITUD\"] = lon\n",
    "    df_BiciMad[\"LONGITUD\"] = lat\n",
    "    return df_BiciMad\n",
    "\n",
    "def clean(df_BiciMad): #reporting\n",
    "    newdf = df_BiciMad.drop([\"activate\",\"no_available\",\"total_bases\",\"dock_bikes\",\"free_bases\",\"reservations_count\",\"geometry_type\",\"geometry_coordinates\",\"light\",\"number\",\"id\"], axis='columns')\n",
    "    newdf['Distance'] = newdf.apply(lambda x: to_mercator(x['LATITUD'], x['LONGITUD']), axis =1)\n",
    "    return newdf"
   ]
  },
  {
   "cell_type": "code",
   "execution_count": null,
   "metadata": {},
   "outputs": [],
   "source": []
  },
  {
   "cell_type": "code",
   "execution_count": null,
   "metadata": {},
   "outputs": [],
   "source": []
  },
  {
   "cell_type": "code",
   "execution_count": 9,
   "metadata": {},
   "outputs": [
    {
     "ename": "SyntaxError",
     "evalue": "invalid syntax (<ipython-input-9-c74d4083fb99>, line 23)",
     "output_type": "error",
     "traceback": [
      "\u001b[0;36m  File \u001b[0;32m\"<ipython-input-9-c74d4083fb99>\"\u001b[0;36m, line \u001b[0;32m23\u001b[0m\n\u001b[0;31m    def df_final(concatenate(df1, df2)):\u001b[0m\n\u001b[0m                            ^\u001b[0m\n\u001b[0;31mSyntaxError\u001b[0m\u001b[0;31m:\u001b[0m invalid syntax\n"
     ]
    }
   ],
   "source": [
    "def aparcamientos_residentes(): #m_acquisition\n",
    "    aparcamientos_residentes = requests.get(\"https://datos.madrid.es/egob/catalogo/202584-0-aparcamientos-residentes.json\")\n",
    "    aparcamientos_residentes1 = aparcamientos_residentes.json()\n",
    "    df1 = pd.json_normalize(aparcamientos_residentes1['@graph'])\n",
    "    return df1\n",
    "\n",
    "\n",
    "def aparcamientos_publicos(): #m_acquisition\n",
    "    aparcamientos_publicos = requests.get(\"https://datos.madrid.es/egob/catalogo/202625-0-aparcamientos-publicos.json\")\n",
    "    aparcamientos_publicos1 = aparcamientos_publicos.json()\n",
    "    df2 = pd.json_normalize(aparcamientos_publicos1['@graph'])\n",
    "    return df2\n",
    "\n",
    "\n",
    "\n",
    "def concatenate(df1, df2): #reporting\n",
    "    df_concatenado = pd.concat ([df1, df2] ,ignore_index=True)\n",
    "    df_clean = df_concatenado.drop([\"@id\",\"@type\",\"id\",\"relation\",\"address.district.@id\",\"address.area.@id\",\"address.locality\",\"address.postal-code\",\"organization.accesibility\",\"organization.schedule\",\"organization.organization-desc\", \"organization.services\"], axis='columns')\n",
    "    df_clean.rename(columns={\"title\":\"Place of interest\",\"organization.organization-name\":\"Type of place\",\"address.street-address\":\"Place address\",\"location.latitude\":\"Latitud\", \"location.longitude\":\"Longitud\"},inplace=True)\n",
    "    return df_clean\n",
    "\n",
    "\n",
    "def df_final(df_clean):\n",
    "    df_clean['Distance'] = df_clean.apply(lambda x: to_mercator(x['Latitud'], x['Longitud']), axis =1)\n",
    "    df_clean[[\"Place of interest\", \"Type of place\", \"Place address\",\"Latitud\",\"Longitud\"]]\n",
    "    return df_clean"
   ]
  },
  {
   "cell_type": "code",
   "execution_count": 10,
   "metadata": {},
   "outputs": [
    {
     "ename": "NameError",
     "evalue": "name 'df1' is not defined",
     "output_type": "error",
     "traceback": [
      "\u001b[0;31m---------------------------------------------------------------------------\u001b[0m",
      "\u001b[0;31mNameError\u001b[0m                                 Traceback (most recent call last)",
      "\u001b[0;32m<ipython-input-10-ac86ace16b7b>\u001b[0m in \u001b[0;36m<module>\u001b[0;34m\u001b[0m\n\u001b[0;32m----> 1\u001b[0;31m \u001b[0mdf_final\u001b[0m\u001b[0;34m(\u001b[0m\u001b[0mconcatenate\u001b[0m\u001b[0;34m(\u001b[0m\u001b[0mdf1\u001b[0m\u001b[0;34m,\u001b[0m \u001b[0mdf2\u001b[0m\u001b[0;34m)\u001b[0m\u001b[0;34m)\u001b[0m\u001b[0;34m\u001b[0m\u001b[0;34m\u001b[0m\u001b[0m\n\u001b[0m",
      "\u001b[0;31mNameError\u001b[0m: name 'df1' is not defined"
     ]
    }
   ],
   "source": [
    "df_final(concatenate(df1, df2))"
   ]
  },
  {
   "cell_type": "code",
   "execution_count": null,
   "metadata": {},
   "outputs": [],
   "source": []
  },
  {
   "cell_type": "code",
   "execution_count": 21,
   "metadata": {},
   "outputs": [],
   "source": [
    "def combine(newdf, df_clean):\n",
    "    df_combinado = df_clean.merge(newdf, how=\"cross\")\n",
    "    df_combinado['Distancia'] = df_combinado.apply(lambda x: distance_meters(x['Distance_x'], x['Distance_y']), axis =1)\n",
    "    df_final = df_combinado.drop([\"Latitud\",\"Longitud\",\"Distance_x\",\"LATITUD\",\"LONGITUD\",\"Distance_y\"], axis='columns')\n",
    "    return df_final"
   ]
  },
  {
   "cell_type": "code",
   "execution_count": 22,
   "metadata": {},
   "outputs": [],
   "source": [
    "def all_min(df_final):\n",
    "    pro_main = df_final.sort_values(by = \"Distancia\", ascending = True).groupby('Place of interest')[\"Type of place\",'Place address', 'name','address'].nth(0)\n",
    "    return pro_main"
   ]
  },
  {
   "cell_type": "code",
   "execution_count": 24,
   "metadata": {},
   "outputs": [],
   "source": [
    "def search_min(df_final):\n",
    "    Lugar_de_interes = str(input(\"introduce el lugar de interes: \"))\n",
    "    Pro = df_final[df_final[\"Type of place\"]==Lugar_de_interes]\n",
    "    busqueda = Pro.sort_values(by=\"Distancia\",ascending=True).head(1)\n",
    "    return busqueda"
   ]
  },
  {
   "cell_type": "code",
   "execution_count": null,
   "metadata": {},
   "outputs": [],
   "source": []
  }
 ],
 "metadata": {
  "interpreter": {
   "hash": "60572b19124cd312bd984631bfa95c8a5833ca5430b324ef6bd30ee345984400"
  },
  "kernelspec": {
   "display_name": "Python [conda env:project_m1]",
   "language": "python",
   "name": "conda-env-project_m1-py"
  },
  "language_info": {
   "codemirror_mode": {
    "name": "ipython",
    "version": 3
   },
   "file_extension": ".py",
   "mimetype": "text/x-python",
   "name": "python",
   "nbconvert_exporter": "python",
   "pygments_lexer": "ipython3",
   "version": "3.7.11"
  }
 },
 "nbformat": 4,
 "nbformat_minor": 2
}
