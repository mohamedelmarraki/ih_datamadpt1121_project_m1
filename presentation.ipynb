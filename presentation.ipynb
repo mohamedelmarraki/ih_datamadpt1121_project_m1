{
 "cells": [
  {
   "cell_type": "markdown",
   "id": "e7cb37af",
   "metadata": {},
   "source": [
    "# project module 1"
   ]
  },
  {
   "cell_type": "markdown",
   "id": "1f37f574",
   "metadata": {},
   "source": [
    "![Image](https://retos-operaciones-logistica.eae.es/wp-content/uploads/2020/10/project-charter.jpg)\n"
   ]
  },
  {
   "cell_type": "markdown",
   "id": "53d284af",
   "metadata": {},
   "source": [
    "## The project consists of creating a program in which the user can obtain the closest BiciMad to his place of interest or the closest BiciMad to all his places of interest"
   ]
  },
  {
   "cell_type": "markdown",
   "id": "d7e56ca0",
   "metadata": {},
   "source": [
    "<p align=\"left\"><img src=\"https://www.tuexpertoapps.com/wp-content/uploads/2019/07/bicimad.jpg.webp\"></p>\n"
   ]
  },
  {
   "cell_type": "markdown",
   "id": "a18c8149",
   "metadata": {},
   "source": [
    "# Step 1: import libraries\n"
   ]
  },
  {
   "cell_type": "markdown",
   "id": "4244a06a",
   "metadata": {},
   "source": [
    "![Image](http://www.geomapik.com/wp-content/uploads/2020/05/librerias-python-gis-portada-1024x679-1.jpg)"
   ]
  },
  {
   "cell_type": "markdown",
   "id": "1245d130",
   "metadata": {},
   "source": [
    "## before putting my hand to work and importing all the tools with which I am going to work, that is, the libraries\n",
    "import `pandas` as pd\n"
   ]
  },
  {
   "cell_type": "markdown",
   "id": "8b982fd9",
   "metadata": {},
   "source": [
    "from `shapely.geometry` import Point"
   ]
  },
  {
   "cell_type": "markdown",
   "id": "dbf60ce7",
   "metadata": {},
   "source": [
    "import `geopandas` as gpd"
   ]
  },
  {
   "cell_type": "markdown",
   "id": "126cb803",
   "metadata": {},
   "source": [
    "import `argparse`"
   ]
  },
  {
   "cell_type": "markdown",
   "id": "b34dbf02",
   "metadata": {},
   "source": [
    "import `requests`"
   ]
  },
  {
   "cell_type": "markdown",
   "id": "38870525",
   "metadata": {},
   "source": [
    "import `sys`"
   ]
  },
  {
   "cell_type": "markdown",
   "id": "bfa33f5b",
   "metadata": {},
   "source": [
    "import `fuzzywuzzy`"
   ]
  },
  {
   "cell_type": "markdown",
   "id": "5b3ba97b",
   "metadata": {},
   "source": [
    "from `fuzzywuzzy` import fuzz"
   ]
  },
  {
   "cell_type": "markdown",
   "id": "d22f4108",
   "metadata": {},
   "source": [
    "from `fuzzywuzzy` import process"
   ]
  },
  {
   "cell_type": "markdown",
   "id": "3d7fb20c",
   "metadata": {},
   "source": [
    "# step 2: import data"
   ]
  },
  {
   "cell_type": "markdown",
   "id": "1c808359",
   "metadata": {},
   "source": [
    "![image](https://cdn2.excelyvba.com/wp-content/uploads/2015/02/importar-datos-web.jpg)"
   ]
  },
  {
   "cell_type": "markdown",
   "id": "f071572b",
   "metadata": {},
   "source": [
    "## In this step I have imported all the data I needed  And the codes and functions used are the following"
   ]
  },
  {
   "cell_type": "markdown",
   "id": "ee44da7b",
   "metadata": {},
   "source": [
    "In this function, what I have done is import the dataset that I have in the data folder that I have previously downloaded from the database that they gave me in the class and I have converted it into a DataFrame"
   ]
  },
  {
   "cell_type": "code",
   "execution_count": 7,
   "id": "04e7bcdb",
   "metadata": {},
   "outputs": [],
   "source": [
    "def BiciMad(): \n",
    "    df_BiciMad = pd.read_json(\"data/bicimad_stations.json\")\n",
    "    return df_BiciMad"
   ]
  },
  {
   "cell_type": "markdown",
   "id": "a3dca026",
   "metadata": {},
   "source": [
    "I have called the API to get my two data files"
   ]
  },
  {
   "cell_type": "code",
   "execution_count": null,
   "id": "5772cb3f",
   "metadata": {},
   "outputs": [],
   "source": [
    "def aparcamientos_residentes(): #m_acquisition\n",
    "    aparcamientos_residentes = requests.get(\"https://datos.madrid.es/egob/catalogo/202584-0-aparcamientos-residentes.json\")\n",
    "    aparcamientos_residentes1 = aparcamientos_residentes.json()\n",
    "    df1 = pd.json_normalize(aparcamientos_residentes1['@graph'])\n",
    "    return df1\n",
    "\n",
    "\n",
    "def aparcamientos_publicos(): #m_acquisition\n",
    "    aparcamientos_publicos = requests.get(\"https://datos.madrid.es/egob/catalogo/202625-0-aparcamientos-publicos.json\")\n",
    "    aparcamientos_publicos1 = aparcamientos_publicos.json()\n",
    "    df2 = pd.json_normalize(aparcamientos_publicos1['@graph'])\n",
    "    return df2"
   ]
  },
  {
   "cell_type": "markdown",
   "id": "cbca5e32",
   "metadata": {},
   "source": [
    "# Step 3: Clean Data"
   ]
  },
  {
   "cell_type": "markdown",
   "id": "a6f1397f",
   "metadata": {},
   "source": [
    "![image](https://www.vozidea.com/wp-content/uploads/2015/03/wp-sweep.png)"
   ]
  },
  {
   "cell_type": "markdown",
   "id": "102a9fd5",
   "metadata": {},
   "source": [
    "## The data almost never comes as we would like because in this step we have had to clean the data and keep as useful as possible"
   ]
  },
  {
   "cell_type": "markdown",
   "id": "1de3ebb0",
   "metadata": {},
   "source": [
    "To develop my code I needed to have the latitude and longitude separate, one thing that my DataFrame did not offer me because I had to create two columns, one for the latitude and the other for the longitude"
   ]
  },
  {
   "cell_type": "code",
   "execution_count": 8,
   "id": "01ba12a5",
   "metadata": {},
   "outputs": [],
   "source": [
    "def lat_lon(df_BiciMad): \n",
    "    lat = [float(column[\"geometry_coordinates\"].split(\",\")[0].replace(\"[\", \"\")) for index, column in df_BiciMad.iterrows()]\n",
    "    lon = [float(column[\"geometry_coordinates\"].split(\",\")[1].replace(\"]\", \"\")) for index, column in df_BiciMad.iterrows()]\n",
    "    df_BiciMad[\"LATITUD\"] = lon\n",
    "    df_BiciMad[\"LONGITUD\"] = lat\n",
    "    return df_BiciMad"
   ]
  },
  {
   "cell_type": "markdown",
   "id": "d294d43e",
   "metadata": {},
   "source": [
    "and also in the DataFrame there were columns that I didn't need and I had to delete them"
   ]
  },
  {
   "cell_type": "code",
   "execution_count": 9,
   "id": "cc7c542b",
   "metadata": {},
   "outputs": [],
   "source": [
    "def clean(df_BiciMad): \n",
    "    newdf = df_BiciMad.drop([\"activate\",\"no_available\",\"total_bases\",\"dock_bikes\",\"free_bases\",\"reservations_count\",\"geometry_type\",\"geometry_coordinates\",\"light\",\"number\",\"id\"], axis='columns')\n",
    "    newdf['Distance'] = newdf.apply(lambda x: to_mercator(x['LATITUD'], x['LONGITUD']), axis =1)\n",
    "    return newdf"
   ]
  },
  {
   "cell_type": "markdown",
   "id": "8e8e38ab",
   "metadata": {},
   "source": [
    "I have realized that both dataframes have the same columns so we have been able to concatenate the two DataFrame and we have also cleaned and renamed and reordered our DataFrame"
   ]
  },
  {
   "cell_type": "code",
   "execution_count": 11,
   "id": "b72b7076",
   "metadata": {},
   "outputs": [],
   "source": [
    "def concatenate(df1, df2):\n",
    "    df_concatenado = pd.concat ([df1, df2] ,ignore_index=True)\n",
    "    df_clean = df_concatenado.drop([\"@id\",\"@type\",\"id\",\"relation\",\"address.district.@id\",\"address.area.@id\",\"address.locality\",\"address.postal-code\",\"organization.accesibility\",\"organization.schedule\",\"organization.organization-desc\", \"organization.services\"], axis='columns')\n",
    "    df_clean.rename(columns={\"title\":\"Place of interest\",\"organization.organization-name\":\"Type of place\",\"address.street-address\":\"Place address\",\"location.latitude\":\"Latitud\", \"location.longitude\":\"Longitud\"},inplace=True)\n",
    "    return df_clean"
   ]
  },
  {
   "cell_type": "markdown",
   "id": "2e011292",
   "metadata": {},
   "source": [
    "# Step 4: analyze data"
   ]
  },
  {
   "cell_type": "markdown",
   "id": "406be6ce",
   "metadata": {},
   "source": [
    "![image](https://opendatacanarias.es/wp-content/uploads/2021/02/analisis-datos.jpg)"
   ]
  },
  {
   "cell_type": "markdown",
   "id": "8d6ed76c",
   "metadata": {},
   "source": [
    "## After cleaning the data and having them as we would like, now it is time to analyze them"
   ]
  },
  {
   "cell_type": "code",
   "execution_count": null,
   "id": "da561855",
   "metadata": {},
   "outputs": [],
   "source": [
    "def to_mercator(lat, long):\n",
    "    # transform latitude/longitude data in degrees to pseudo-mercator coordinates in metres\n",
    "    c = gpd.GeoSeries([Point(lat, long)], crs=4326)\n",
    "    c = c.to_crs(3857)\n",
    "    return c"
   ]
  },
  {
   "cell_type": "markdown",
   "id": "752ac1d8",
   "metadata": {},
   "source": [
    "in this case we have applied the to_mercator function to obtain the latitude and longitude as requested by the function and we have put it in a new column which we have called `Distance`"
   ]
  },
  {
   "cell_type": "code",
   "execution_count": null,
   "id": "e1bbb877",
   "metadata": {},
   "outputs": [],
   "source": [
    "def df_final(df_clean):\n",
    "    df_clean['Distance'] = df_clean.apply(lambda x: to_mercator(x['Latitud'], x['Longitud']), axis =1)\n",
    "    df_clean[[\"Place of interest\", \"Type of place\", \"Place address\",\"Latitud\",\"Longitud\"]]\n",
    "    return df_clean"
   ]
  },
  {
   "cell_type": "markdown",
   "id": "c6d4b5a2",
   "metadata": {},
   "source": [
    "To facilitate the work, it is recommended to have few tables to have a general view of all the data."
   ]
  },
  {
   "cell_type": "code",
   "execution_count": null,
   "id": "7f16fe6f",
   "metadata": {},
   "outputs": [],
   "source": [
    "def combine(newdf, df_clean):\n",
    "    df_combinado = df_clean.merge(newdf, how=\"cross\")\n",
    "    df_combinado['Distancia'] = df_combinado.apply(lambda x: distance_meters(x['Distance_x'], x['Distance_y']), axis =1)\n",
    "    df_final = df_combinado.drop([\"Latitud\",\"Longitud\",\"Distance_x\",\"LATITUD\",\"LONGITUD\",\"Distance_y\"], axis='columns')\n",
    "    return df_final"
   ]
  },
  {
   "cell_type": "markdown",
   "id": "2991c6bd",
   "metadata": {},
   "source": [
    "# Step 5: mount the program"
   ]
  },
  {
   "cell_type": "markdown",
   "id": "4d0b4e9c",
   "metadata": {},
   "source": [
    " ![image](https://miracomosehace.com/wp-content/uploads/2020/06/pantalla-de-pc-table-y-telefono-e-iconos.jpg)"
   ]
  },
  {
   "cell_type": "markdown",
   "id": "f17e40f6",
   "metadata": {},
   "source": [
    "## in this step it is already time to mount our program and facilitate the use to the user"
   ]
  },
  {
   "cell_type": "code",
   "execution_count": 2,
   "id": "5d78a407",
   "metadata": {},
   "outputs": [],
   "source": [
    "def usuario(df_final):\n",
    "    for i in range(3):\n",
    "        a = (input(\"Si desea obtener la BiciMad más cercana a su lugar de intéres introduce el número 1                                                                                                                                                                  \"+\n",
    "               \"Si desea obtener la BiciMad más cercana a todos sus lugares de intéres introduce el número 2                                                                                                                                                         \"+\"La opcíon intoroducida es la: \"))\n",
    "        if a ==\"1\":\n",
    "            Lugar_de_interes = str(input(\"introduce el lugar de interes: \"))\n",
    "            def match_names(Lugar_de_interes, datos_unicos, min_score=0):\n",
    "                max_score = -1\n",
    "                max_name = ''\n",
    "                for x in datos_unicos:\n",
    "                    score = fuzz.ratio(Lugar_de_interes.lower(), x.lower())\n",
    "                    if (score > min_score) & (score > max_score):\n",
    "                        max_name = x\n",
    "                        max_score = score\n",
    "                        return max_name\n",
    "            max_name = match_names(Lugar_de_interes, datos_unicos, min_score=90)\n",
    "            Pro = df_final[df_final[\"Type of place\"]==max_name]\n",
    "            busqueda = Pro.sort_values(by=\"Distancia\",ascending=True).head(1)\n",
    "            busqueda.to_csv(\"data/BiciMad_Mas_Cercana.csv\", sep= \";\")\n",
    "            print(\"El archivo de la BiciMad más cercana a su lugar de intéres se encuentra guardado en la carpeta data, en formato CSV\")\n",
    "            break\n",
    "        elif a == \"2\":\n",
    "            pro_main = df_final.sort_values(by = \"Distancia\", ascending = True).groupby('Place of interest')[\"Type of place\",'Place address', 'name','address'].nth(0)\n",
    "            pro_main.to_csv(\"data/BiciMads_Mas_Cercana.csv\", sep= \";\")\n",
    "            print(\"El archivo de la BiciMad más cercana a cada uno de sus lugares de intéres se encuentra guardado en la carpeta data, en formato CSV\")\n",
    "            break\n",
    "\n",
    "        else:\n",
    "            print(\"Lo sentimos la opcíon introducida no existe, vuelva a ejecutar de nuevo el programa\")"
   ]
  },
  {
   "cell_type": "markdown",
   "id": "acf13da8",
   "metadata": {},
   "source": [
    "# Step 6: Assemble the pipeline "
   ]
  },
  {
   "cell_type": "markdown",
   "id": "0ec0df11",
   "metadata": {},
   "source": [
    "![image](https://www.kiuwan.com/wp-content/uploads/2021/08/kiuwan-Increasing-Development-Pipeline-Efficiency.png)"
   ]
  },
  {
   "cell_type": "markdown",
   "id": "125db867",
   "metadata": {},
   "source": [
    "## In this step we have assembled our pipeline including the argparse library creating all the necessary folders and all the necessary `.py ` files for everything to work"
   ]
  },
  {
   "cell_type": "code",
   "execution_count": 3,
   "id": "ca41e09e",
   "metadata": {},
   "outputs": [],
   "source": [
    "from p_acquisition import m_acquisition as mac\n",
    "from p_wrangling import m_wrangling as mwr\n",
    "from p_analysis import m_analysis as man \n",
    "from p_reporting import m_reporting as mre"
   ]
  },
  {
   "cell_type": "code",
   "execution_count": null,
   "id": "7b32aa3a",
   "metadata": {},
   "outputs": [],
   "source": []
  }
 ],
 "metadata": {
  "kernelspec": {
   "display_name": "Python [conda env:project_m1]",
   "language": "python",
   "name": "conda-env-project_m1-py"
  },
  "language_info": {
   "codemirror_mode": {
    "name": "ipython",
    "version": 3
   },
   "file_extension": ".py",
   "mimetype": "text/x-python",
   "name": "python",
   "nbconvert_exporter": "python",
   "pygments_lexer": "ipython3",
   "version": "3.7.11"
  }
 },
 "nbformat": 4,
 "nbformat_minor": 5
}
